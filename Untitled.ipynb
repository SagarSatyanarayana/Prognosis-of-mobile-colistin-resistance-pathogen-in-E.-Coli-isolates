{
 "cells": [
  {
   "cell_type": "markdown",
   "metadata": {},
   "source": [
    "# Retrieve the filename of the latest dataset of NCBI Pathogen Isolates."
   ]
  },
  {
   "cell_type": "code",
   "execution_count": null,
   "metadata": {},
   "outputs": [],
   "source": [
    "%%time\n",
    "from ftplib import FTP\n",
    "import re\n",
    "\n",
    "def get_version():\n",
    "  version = None\n",
    "  def get_ftp_version(ftp_filename):\n",
    "    nonlocal version\n",
    "    version = re.search('PDG000000004.([0-9]+).amr.metadata.tsv', ftp_filename).group(1)\n",
    "\n",
    "  with FTP('ftp.ncbi.nlm.nih.gov') as ftp:\n",
    "      ftp.login()\n",
    "      ftp.cwd('pathogen/Results/Escherichia_coli_Shigella/latest_snps/AMR/')\n",
    "      ftp.retrlines('NLST PDG000000004.*.amr.metadata.tsv', get_ftp_version)\n",
    "\n",
    "  return version"
   ]
  }
 ],
 "metadata": {
  "kernelspec": {
   "display_name": "Python 3",
   "language": "python",
   "name": "python3"
  },
  "language_info": {
   "codemirror_mode": {
    "name": "ipython",
    "version": 3
   },
   "file_extension": ".py",
   "mimetype": "text/x-python",
   "name": "python",
   "nbconvert_exporter": "python",
   "pygments_lexer": "ipython3",
   "version": "3.7.3"
  }
 },
 "nbformat": 4,
 "nbformat_minor": 2
}
